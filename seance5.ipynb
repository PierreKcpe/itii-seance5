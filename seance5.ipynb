{
 "cells": [
  {
   "cell_type": "markdown",
   "metadata": {},
   "source": [
    "Ex1:\n",
    "    \n",
    "1. Ecrire une fonction qui prend en entrée une fonction f et des réels a et h et donne en sortie le taux de variation (ou d'accroissement) de la fonction f entre le point d'abscisse a+h et a.\n",
    "2. Tester avec f(x)=3x^3+1x^2-5"
   ]
  },
  {
   "cell_type": "code",
   "execution_count": 19,
   "metadata": {},
   "outputs": [
    {
     "data": {
      "text/plain": [
       "28.0"
      ]
     },
     "execution_count": 19,
     "metadata": {},
     "output_type": "execute_result"
    }
   ],
   "source": [
    "def f(x):\n",
    "    return pow(3*x,3)+pow(x,2)-5\n",
    "def tauxaccroi(fonction,ah,a):\n",
    "    return (fonction(ah)-fonction(a))/ah-a\n",
    "\n",
    "tauxaccroi(f, 1, 0)\n",
    "    "
   ]
  },
  {
   "cell_type": "markdown",
   "metadata": {},
   "source": [
    "Ex2:\n",
    "1. Ecrire une fonction qui calcule la liste des coefficients directeurs pour une fonction f définit sur I=[a;b] avec un pas \"p\"\n",
    "2. Tester avec f(x)=(1+x)/(x-4) définit sur I=[0,1] avec un pas de 0.01"
   ]
  },
  {
   "cell_type": "code",
   "execution_count": 18,
   "metadata": {},
   "outputs": [
    {
     "name": "stdout",
     "output_type": "stream",
     "text": [
      "-0.41666666666666663\n",
      "-0.42353383458646615\n",
      "-0.43038525963149077\n",
      "-0.4372208228379513\n",
      "-0.44404040404040396\n",
      "-0.45084388185654006\n",
      "-0.45763113367174274\n",
      "-0.46440203562340965\n",
      "-0.47115646258503396\n",
      "-0.47789428815004253\n",
      "-0.4846153846153845\n",
      "-0.4913196229648672\n",
      "-0.49800687285223366\n",
      "-0.5046770025839793\n",
      "-0.5113298791018998\n",
      "-0.517965367965368\n",
      "-0.5245833333333333\n",
      "-0.5311836379460401\n",
      "-0.5377661431064572\n",
      "-0.5443307086614173\n",
      "-0.5508771929824562\n",
      "-0.55740545294635\n",
      "-0.5639153439153439\n",
      "-0.5704067197170646\n",
      "-0.5768794326241135\n",
      "-0.5833333333333334\n",
      "-0.5897682709447416\n",
      "-0.5961840929401252\n",
      "-0.6025806451612903\n",
      "-0.6089577717879605\n",
      "-0.6153153153153154\n",
      "-0.6216531165311654\n",
      "-0.6279710144927537\n",
      "-0.6342688465031789\n",
      "-0.6405464480874317\n",
      "-0.6468036529680365\n",
      "-0.6530402930402931\n",
      "-0.6592561983471075\n",
      "-0.665451197053407\n",
      "-0.6716251154201294\n",
      "-0.6777777777777778\n",
      "-0.6839090064995359\n",
      "-0.6900186219739293\n",
      "-0.6961064425770309\n",
      "-0.7021722846441949\n",
      "-0.7082159624413147\n",
      "-0.7142372881355934\n",
      "-0.7202360717658169\n",
      "-0.7262121212121213\n",
      "-0.7321652421652423\n",
      "-0.7380952380952381\n",
      "-0.7440019102196753\n",
      "-0.7498850574712644\n",
      "-0.7557444764649377\n",
      "-0.7615799614643547\n",
      "-0.7673913043478262\n",
      "-0.7731782945736435\n",
      "-0.7789407191448009\n",
      "-0.7846783625730995\n",
      "-0.7903910068426199\n",
      "-0.7960784313725491\n",
      "-0.8017404129793512\n",
      "-0.8073767258382645\n",
      "-0.8129871414441149\n",
      "-0.8185714285714287\n",
      "-0.824129353233831\n",
      "-0.8296606786427148\n",
      "-0.8351651651651654\n",
      "-0.8406425702811247\n",
      "-0.8460926485397786\n",
      "-0.8515151515151518\n",
      "-0.8569098277608918\n",
      "-0.8622764227642278\n",
      "-0.8676146788990827\n",
      "-0.8729243353783234\n",
      "-0.8782051282051284\n",
      "-0.8834567901234569\n",
      "-0.8886790505675957\n",
      "-0.8938716356107663\n",
      "-0.8990342679127727\n",
      "-0.9041666666666668\n",
      "-0.9092685475444098\n",
      "-0.9143396226415097\n",
      "-0.9193796004206101\n",
      "-0.9243881856540086\n",
      "-0.9293650793650796\n",
      "-0.9343099787685778\n",
      "-0.9392225772097978\n",
      "-0.9441025641025643\n",
      "-0.9489496248660239\n",
      "-0.9537634408602154\n",
      "-0.9585436893203886\n",
      "-0.9632900432900435\n",
      "-0.9680021715526604\n",
      "-0.9726797385620918\n",
      "-0.9773224043715849\n",
      "-0.9819298245614038\n",
      "-0.9865016501650168\n",
      "-0.9910375275938192\n",
      "-0.9955370985603547\n"
     ]
    }
   ],
   "source": [
    "def f(x):\n",
    "    return (1+x)/(x-4)\n",
    "def coefdir(fonction,p,a,b):\n",
    "    while a <=b:\n",
    "        print(tauxaccroi(fonction,b,a))\n",
    "        a+=p\n",
    "coefdir(f, 0.01,0,1)"
   ]
  },
  {
   "cell_type": "markdown",
   "metadata": {},
   "source": [
    "Ex3:\n",
    "on considère une suite U définie par Un+1=Un+n+1 et de premier terme U0. Ecrire une fonction qui prend en entrée les valeurs de n et U0 et affiche la valeur de Un.\n",
    "1. De facon iterative\n",
    "2. Par recurence"
   ]
  },
  {
   "cell_type": "code",
   "execution_count": 46,
   "metadata": {},
   "outputs": [
    {
     "name": "stdout",
     "output_type": "stream",
     "text": [
      "9\n"
     ]
    }
   ],
   "source": [
    "def Ui(n, u0):\n",
    "    i=1\n",
    "    while i<=n:\n",
    "        u0= u0+i-1+1\n",
    "        i= i+1\n",
    "    return u0\n",
    "\n",
    "print(Ui(3,0))"
   ]
  },
  {
   "cell_type": "code",
   "execution_count": 49,
   "metadata": {},
   "outputs": [
    {
     "name": "stdout",
     "output_type": "stream",
     "text": [
      "6\n"
     ]
    }
   ],
   "source": [
    "def Ur(n, u0):\n",
    "    if(n>0):\n",
    "        return Ur(n-1, u0+n-1+1)\n",
    "    else:\n",
    "        return u0\n",
    "      \n",
    "print(Ur(3,0))\n",
    "\n",
    "\n",
    "    "
   ]
  },
  {
   "cell_type": "markdown",
   "metadata": {},
   "source": [
    "Ex4:\n",
    "On pose Tn=n^2−(n−1)^2 ainsi que Sn=T1+T2+T3+...+Tn.\n",
    "1. Etant donné n, afficher la valeur de Sn."
   ]
  },
  {
   "cell_type": "code",
   "execution_count": 40,
   "metadata": {},
   "outputs": [
    {
     "name": "stdout",
     "output_type": "stream",
     "text": [
      "16\n"
     ]
    }
   ],
   "source": [
    "def Tn(n):\n",
    "    return pow(n,2)-pow((n-1),2)\n",
    "\n",
    "def Sn(n):\n",
    "    i=1\n",
    "    somme=0\n",
    "    while i<n:\n",
    "        somme = somme+Tn(i)\n",
    "        i=i+1\n",
    "    return somme\n",
    "        \n",
    "print(Sn(5))"
   ]
  },
  {
   "cell_type": "markdown",
   "metadata": {},
   "source": [
    "Ex5:\n",
    "Soit la suite définie par Un+1=0.5.Un et de premier terme U0. Plus la valeur de n augmente, plus les valeurs de Un se rapprochent de 0.\n",
    "\n",
    "Ecrire une fonction qui permet de déterminer pour un réel positif e donné, quel est le plus petit entier n tel que la valeur de Un soit inférieure à e.\n"
   ]
  },
  {
   "cell_type": "code",
   "execution_count": 56,
   "metadata": {},
   "outputs": [
    {
     "name": "stdout",
     "output_type": "stream",
     "text": [
      "5\n"
     ]
    }
   ],
   "source": [
    "def U(Un):\n",
    "    return Un*0.5\n",
    "\n",
    "def ex(U0,e):\n",
    "    n=0\n",
    "    Un=U0\n",
    "    while(e<Un):\n",
    "        Un = U(Un)\n",
    "        n = n+1\n",
    "    return n\n",
    "\n",
    "print(ex(5,0.2))\n",
    "    "
   ]
  },
  {
   "cell_type": "markdown",
   "metadata": {},
   "source": [
    "Ex6: Constante K de Catalan : https://fr.wikipedia.org/wiki/Constante_de_Catalan\n",
    "Ecrire une fonction qui permet de retourner une valeur approchée de la constante K et en s’arrêtant dès que la valeur absolue de la différence entre deux somme successives devienne inférieure ou égale à une erreur epsilon donnée en paramètre.\n",
    "\n"
   ]
  },
  {
   "cell_type": "code",
   "execution_count": 61,
   "metadata": {},
   "outputs": [
    {
     "name": "stdout",
     "output_type": "stream",
     "text": [
      "3.061616997868383e-17\n"
     ]
    }
   ],
   "source": [
    "import math\n",
    "def K(e):\n",
    "    n=1\n",
    "    k1= 0\n",
    "    k2=0\n",
    "    while(e>k2-k1):\n",
    "        k2 = k1\n",
    "        k1 = math.sin(n*(math.pi/2))/pow(n,2)\n",
    "        n = n + 1\n",
    "    return k1    \n",
    "print(K(0.2))\n",
    "        "
   ]
  },
  {
   "cell_type": "markdown",
   "metadata": {},
   "source": [
    "Ex 7:\n",
    "Ecrivez une fonction permettant de calculer la limite à epsilon près de la suite définie par la relation de récurrence :\n",
    "\n",
    "U0 =2\n",
    "Un+1= Un + 2/Un  , n>0.\n",
    "\n",
    "On arrête d’itérer quand l’intervalle entre 2 termes consécutifs devient strictement inférieur à epsilon."
   ]
  }
 ],
 "metadata": {
  "kernelspec": {
   "display_name": "Python 3",
   "language": "python",
   "name": "python3"
  }
 },
 "nbformat": 4,
 "nbformat_minor": 4
}
